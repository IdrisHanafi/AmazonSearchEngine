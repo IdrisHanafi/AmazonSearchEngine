{
 "cells": [
  {
   "cell_type": "code",
   "execution_count": 2,
   "id": "777ce412",
   "metadata": {},
   "outputs": [],
   "source": [
    "# conda install -c anaconda boto3 \n",
    "# pip install boto3"
   ]
  },
  {
   "cell_type": "code",
   "execution_count": 4,
   "id": "2b28681d",
   "metadata": {},
   "outputs": [],
   "source": [
    "\n",
    "import boto3\n",
    "from botocore.exceptions import ClientError\n",
    "import requests"
   ]
  },
  {
   "cell_type": "code",
   "execution_count": 7,
   "id": "4bd438c0",
   "metadata": {},
   "outputs": [],
   "source": [
    "\n",
    "def detect_labels_text(photo, bucket, confidence):\n",
    "    client=boto3.client('rekognition', region_name = 'us-west-1',     aws_access_key_id='xxx',\n",
    "                        aws_secret_access_key='xxx')\n",
    "\n",
    "    label_resp = client.detect_labels(Image={'S3Object':{'Bucket':bucket,'Name':photo}},\n",
    "        MaxLabels=5)\n",
    "    text_resp = client.detect_text(Image={'S3Object':{'Bucket':bucket,'Name':photo}})\n",
    "    \n",
    "    query = ''\n",
    "    \n",
    "    for x in label_resp['Labels']:\n",
    "        if x['Confidence'] > confidence:\n",
    "            query = query + ' ' + x['Name']\n",
    "        \n",
    "    if text_resp['TextDetections'] != []:\n",
    "        for item in text_resp['TextDetections']:\n",
    "            if item['Type'] == 'WORD':\n",
    "                if item['Confidence'] > confidence:\n",
    "                    query = query + ' ' +item['DetectedText']\n",
    "                    \n",
    "    \n",
    "    \n",
    "    return query.lower()"
   ]
  },
  {
   "cell_type": "code",
   "execution_count": 8,
   "id": "c15413bf",
   "metadata": {},
   "outputs": [
    {
     "data": {
      "text/plain": [
       "''"
      ]
     },
     "execution_count": 8,
     "metadata": {},
     "output_type": "execute_result"
    }
   ],
   "source": [
    "confidence = 90\n",
    "detect_labels_text('IMG_earbuds.jpg', 'teammcrib-images', confidence)"
   ]
  },
  {
   "cell_type": "code",
   "execution_count": 9,
   "id": "bdeb2a46",
   "metadata": {},
   "outputs": [
    {
     "data": {
      "text/plain": [
       "' phone electronics mobile phone cell phone iphone'"
      ]
     },
     "execution_count": 9,
     "metadata": {},
     "output_type": "execute_result"
    }
   ],
   "source": [
    "confidence = 90\n",
    "detect_labels_text('IMG_phone.jpg', 'teammcrib-images', confidence)"
   ]
  },
  {
   "cell_type": "code",
   "execution_count": 10,
   "id": "392af93c",
   "metadata": {},
   "outputs": [
    {
     "data": {
      "text/plain": [
       "' strap black diamond'"
      ]
     },
     "execution_count": 10,
     "metadata": {},
     "output_type": "execute_result"
    }
   ],
   "source": [
    "confidence = 90\n",
    "detect_labels_text('IMG_headlamp.jpg', 'teammcrib-images', confidence)"
   ]
  },
  {
   "cell_type": "code",
   "execution_count": null,
   "id": "b91fa99a",
   "metadata": {},
   "outputs": [],
   "source": []
  }
 ],
 "metadata": {
  "kernelspec": {
   "display_name": "Python 3",
   "language": "python",
   "name": "python3"
  },
  "language_info": {
   "codemirror_mode": {
    "name": "ipython",
    "version": 3
   },
   "file_extension": ".py",
   "mimetype": "text/x-python",
   "name": "python",
   "nbconvert_exporter": "python",
   "pygments_lexer": "ipython3",
   "version": "3.8.10"
  }
 },
 "nbformat": 4,
 "nbformat_minor": 5
}
