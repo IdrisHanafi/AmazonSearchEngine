{
 "cells": [
  {
   "cell_type": "code",
   "execution_count": null,
   "metadata": {
    "executionInfo": {
     "elapsed": 226,
     "status": "ok",
     "timestamp": 1659994461410,
     "user": {
      "displayName": "Idris Hanafi",
      "userId": "08993226175925256732"
     },
     "user_tz": 240
    },
    "id": "5AmOYWyEN2Cg"
   },
   "outputs": [],
   "source": [
    "import numpy as np\n",
    "import pandas as pd\n",
    "import pandas as pd\n",
    "import numpy as np\n",
    "import matplotlib.pyplot as plt\n",
    "from sklearn.feature_extraction.text import TfidfVectorizer\n",
    "from sklearn.decomposition import TruncatedSVD\n",
    "from sklearn.metrics.pairwise import cosine_similarity\n",
    "import pickle\n",
    "import joblib\n",
    "from sklearn.model_selection import train_test_split\n",
    "from sklearn.neighbors import KNeighborsClassifier\n",
    "from sklearn.metrics import accuracy_score\n",
    "from sklearn.metrics import f1_score\n",
    "from sklearn.linear_model import LogisticRegression"
   ]
  },
  {
   "cell_type": "code",
   "execution_count": null,
   "metadata": {
    "id": "vbuo87o1N2Ck"
   },
   "outputs": [],
   "source": [
    "#load cleaned data\n",
    "df = pd.read_json(\n",
    "    'G:/Shared drives\\SIADS - 697 Capstone Team Drive/datasets/cleaned_data.json',\n",
    ")"
   ]
  },
  {
   "cell_type": "code",
   "execution_count": null,
   "metadata": {},
   "outputs": [],
   "source": [
    "# load category string index\n",
    "with open('category_string_index.pickle', 'rb') as filehandle:\n",
    "    category_string_index = pickle.load(filehandle)"
   ]
  },
  {
   "cell_type": "code",
   "execution_count": null,
   "metadata": {},
   "outputs": [],
   "source": [
    "df.info()"
   ]
  },
  {
   "cell_type": "code",
   "execution_count": null,
   "metadata": {},
   "outputs": [],
   "source": [
    "def get_index(x):\n",
    "    try:\n",
    "        return(category_string_index[x])\n",
    "    except:\n",
    "        return(np.nan)"
   ]
  },
  {
   "cell_type": "code",
   "execution_count": null,
   "metadata": {},
   "outputs": [],
   "source": [
    "df['subcategory_index'] = df['category_string'].apply(get_index)"
   ]
  },
  {
   "cell_type": "code",
   "execution_count": null,
   "metadata": {},
   "outputs": [],
   "source": [
    "df['subcategory_index'].isnull().sum()"
   ]
  },
  {
   "cell_type": "code",
   "execution_count": null,
   "metadata": {},
   "outputs": [],
   "source": [
    "#dropping NA to make progress\n",
    "df.dropna(inplace=True)\n",
    "df.info()"
   ]
  },
  {
   "cell_type": "code",
   "execution_count": null,
   "metadata": {},
   "outputs": [],
   "source": [
    "def create_M1(df, features = '4_features_combined', components = 10, ngrams = 2):\n",
    "    # create vectorizer title and category plus description\n",
    "    vectorizer= TfidfVectorizer(stop_words=\"english\", max_df = 0.95, ngram_range = (1,ngrams), sublinear_tf = True)\n",
    "    X = vectorizer.fit_transform(df[features])\n",
    "    #create LSI model\n",
    "    lsi=TruncatedSVD(n_components=components)  \n",
    "    lsi_text_transformed = lsi.fit_transform(X)\n",
    "    \n",
    "    return lsi_text_transformed"
   ]
  },
  {
   "cell_type": "code",
   "execution_count": null,
   "metadata": {},
   "outputs": [],
   "source": [
    "### create machine learning models"
   ]
  },
  {
   "cell_type": "code",
   "execution_count": null,
   "metadata": {},
   "outputs": [],
   "source": [
    "# create y target values and initialize dataframe to store evaluation results\n",
    "y = df['subcategory_index'].astype('int')\n",
    "summary = pd.DataFrame(columns = ['features', 'components', 'n_gram', 'accuracy', 'macro_f1', 'micro_f1', 'weighted_f1'])"
   ]
  },
  {
   "cell_type": "code",
   "execution_count": null,
   "metadata": {},
   "outputs": [],
   "source": [
    "def create_eval_Kneighbor(feat, compon, grams, y):\n",
    "    X = create_M1(df, features = feat, components = compon, ngrams = grams)\n",
    "    #split the data\n",
    "    X_train, X_test, y_train, y_test = train_test_split(X, y, test_size=0.20, random_state=42)\n",
    "    #train the data\n",
    "    NN = KNeighborsClassifier(n_neighbors=5)\n",
    "    NN.fit(X_train, y_train)\n",
    "    # metrics\n",
    "    pred = NN.predict(X_test)\n",
    "    accuracy = accuracy_score(y_test,pred)\n",
    "    macro_f1 =  f1_score(y_test, pred, average='macro')\n",
    "    micro_f1 = f1_score(y_test, pred, average='micro')\n",
    "    weighted_f1 = f1_score(y_test, pred, average='weighted')\n",
    "    summary.loc[len(summary.index)] = [feat, compon , grams, accuracy, macro_f1, micro_f1, weighted_f1]"
   ]
  },
  {
   "cell_type": "code",
   "execution_count": null,
   "metadata": {},
   "outputs": [],
   "source": [
    "\n",
    "for ngram in [1,2,3]:\n",
    "    for features in ['4_features_combined','5_features_combined']:\n",
    "        for comp in [50]:\n",
    "            print(ngram, features, comp)\n",
    "            create_eval_Kneighbor(features, comp, ngram, y)"
   ]
  },
  {
   "cell_type": "code",
   "execution_count": null,
   "metadata": {},
   "outputs": [],
   "source": [
    "summary.to_csv('summary_knn_m1_metrics_v4.csv', index=False)"
   ]
  }
 ],
 "metadata": {
  "colab": {
   "collapsed_sections": [],
   "name": "gensim-LSI.ipynb",
   "provenance": []
  },
  "kernelspec": {
   "display_name": "Python 3",
   "language": "python",
   "name": "python3"
  },
  "language_info": {
   "codemirror_mode": {
    "name": "ipython",
    "version": 3
   },
   "file_extension": ".py",
   "mimetype": "text/x-python",
   "name": "python",
   "nbconvert_exporter": "python",
   "pygments_lexer": "ipython3",
   "version": "3.8.10"
  },
  "vscode": {
   "interpreter": {
    "hash": "a077222d77dfe082b8f1dd562ad70e458ac2ab76993a0b248ab0476e32e9e8dd"
   }
  }
 },
 "nbformat": 4,
 "nbformat_minor": 1
}
